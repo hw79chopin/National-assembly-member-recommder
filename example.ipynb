{
 "cells": [
  {
   "cell_type": "code",
   "execution_count": 1,
   "metadata": {},
   "outputs": [],
   "source": [
    "import Preprocess_to_Train from embedding\n",
    "import Recommend from recommender"
   ]
  },
  {
   "cell_type": "code",
   "execution_count": 2,
   "metadata": {},
   "outputs": [],
   "source": [
    "bills = pd.read_csv('../1차 데이터 및 jupyter/bills_24839_all_cleansed.csv')\n",
    "senators = pd.read_csv('../1차 데이터 및 jupyter/(원본) assembly_memebers_295.csv')"
   ]
  },
  {
   "cell_type": "code",
   "execution_count": 3,
   "metadata": {},
   "outputs": [],
   "source": [
    "model = Preprocess_to_Train(bills, senators)"
   ]
  },
  {
   "cell_type": "code",
   "execution_count": 4,
   "metadata": {},
   "outputs": [],
   "source": [
    "bills = model.preprocess(url = '/stopwords ver1.0.txt')"
   ]
  },
  {
   "cell_type": "code",
   "execution_count": 5,
   "metadata": {},
   "outputs": [],
   "source": [
    "bills_json = model.get_n_save_bills_vector(df = bills,\n",
    "                              iteration = 10,\n",
    "                              dir_ = 'bills_json.json')"
   ]
  },
  {
   "cell_type": "code",
   "execution_count": 6,
   "metadata": {},
   "outputs": [],
   "source": [
    "senator_json = model.get_n_save_senators_vector(senators, \n",
    "                                                bills, \n",
    "                                                bills_json, \n",
    "                                                dir_ = 'senators_json.json')"
   ]
  },
  {
   "cell_type": "code",
   "execution_count": 7,
   "metadata": {},
   "outputs": [],
   "source": [
    "embedding_model = model.train_w2v(bills, 10)"
   ]
  },
  {
   "cell_type": "markdown",
   "metadata": {},
   "source": [
    "# 추천 예시"
   ]
  },
  {
   "cell_type": "code",
   "execution_count": 8,
   "metadata": {},
   "outputs": [],
   "source": [
    "rec = Recommend(senators_json, embedding_model)"
   ]
  },
  {
   "cell_type": "code",
   "execution_count": 269,
   "metadata": {},
   "outputs": [
    {
     "data": {
      "text/plain": [
       "['장애',\n",
       " '장애인',\n",
       " '장애인복지법',\n",
       " '심신장애',\n",
       " '시각장애인',\n",
       " '장애인복지시설',\n",
       " '장애물',\n",
       " '장애인차별금지',\n",
       " '장애인기업',\n",
       " '장애등급제',\n",
       " '장애자']"
      ]
     },
     "execution_count": 269,
     "metadata": {},
     "output_type": "execute_result"
    }
   ],
   "source": [
    "rec.search('장애')"
   ]
  },
  {
   "cell_type": "code",
   "execution_count": 270,
   "metadata": {},
   "outputs": [
    {
     "name": "stderr",
     "output_type": "stream",
     "text": [
      "<ipython-input-249-6b73e54f153e>:26: DeprecationWarning: Call to deprecated `most_similar` (Method will be removed in 4.0.0, use self.wv.most_similar() instead).\n",
      "  return self.embedding_model.most_similar(positive=[text], topn=30)\n"
     ]
    },
    {
     "data": {
      "text/plain": [
       "[('평생', 0.6893314123153687),\n",
       " ('교육기관', 0.6508738398551941),\n",
       " ('이수', 0.6335793733596802),\n",
       " ('중등교육', 0.6265885829925537),\n",
       " ('학교', 0.6220487356185913),\n",
       " ('교육훈련', 0.5777043104171753),\n",
       " ('고등학교', 0.5773763656616211),\n",
       " ('연수', 0.5689361691474915),\n",
       " ('체험', 0.5665625333786011),\n",
       " ('교육기본법', 0.5662640333175659),\n",
       " ('훈련', 0.5624703168869019),\n",
       " ('교육부장관', 0.5534946322441101),\n",
       " ('학습', 0.5516924858093262),\n",
       " ('학생', 0.5449264049530029),\n",
       " ('유아', 0.5446428656578064),\n",
       " ('민주시민', 0.5421710014343262),\n",
       " ('인권교육', 0.5339837670326233),\n",
       " ('양성', 0.5297490954399109),\n",
       " ('교육법', 0.5290044546127319),\n",
       " ('보수교육', 0.5272989273071289),\n",
       " ('인성', 0.5259255170822144),\n",
       " ('평생교육기관', 0.524284839630127),\n",
       " ('진로', 0.5230306386947632),\n",
       " ('교육감', 0.5223515033721924),\n",
       " ('중학교', 0.5137713551521301),\n",
       " ('지도', 0.5079643726348877),\n",
       " ('고등교육', 0.5034582614898682),\n",
       " ('특수교육', 0.4978315830230713),\n",
       " ('강사', 0.49539369344711304),\n",
       " ('수업', 0.4948633313179016)]"
      ]
     },
     "execution_count": 270,
     "metadata": {},
     "output_type": "execute_result"
    }
   ],
   "source": [
    "rec.similarWord('교육')"
   ]
  },
  {
   "cell_type": "code",
   "execution_count": 23,
   "metadata": {},
   "outputs": [],
   "source": [
    "user_input = ['복지서비스','장애인', '특수교육','장애인복지시설']"
   ]
  },
  {
   "cell_type": "code",
   "execution_count": 260,
   "metadata": {
    "scrolled": true
   },
   "outputs": [
    {
     "data": {
      "text/plain": [
       "['여영국 정의당', '오영훈 더불어민주당', '정춘숙 더불어민주당', '유승민 미래통합당', '나경원 미래통합당']"
      ]
     },
     "execution_count": 260,
     "metadata": {},
     "output_type": "execute_result"
    }
   ],
   "source": [
    "list_senator = rec.similar_senators(user_input, senators_json)\n",
    "list_senator"
   ]
  },
  {
   "cell_type": "code",
   "execution_count": 268,
   "metadata": {},
   "outputs": [
    {
     "data": {
      "text/plain": [
       "{'여영국 정의당': ['장애인활동 지원에 관한 법률 일부개정법률안(윤소하의원 등 12인)',\n",
       "  '장애인복지법 일부개정법률안(윤소하의원 등 10인)',\n",
       "  '청년고용촉진 특별법 일부개정법률안(이정미의원 등 11인)'],\n",
       " '오영훈 더불어민주당': ['영화 및 비디오물의 진흥에 관한 법률 일부개정법률안(인재근의원 등 13인)',\n",
       "  '영화 및 비디오물의 진흥에 관한 법률 일부개정법률안(전재수의원 등 12인)',\n",
       "  '발달장애인 권리보장 및 지원에 관한 법률 일부개정법률안(소병훈의원 등 13인)'],\n",
       " '정춘숙 더불어민주당': ['장애인·노인·임산부 등의 편의증진 보장에 관한 법률 일부개정법률안(윤소하의원 등 11인)',\n",
       "  '수의사법 일부개정법률안(양승조의원 등 10인)',\n",
       "  '가정폭력방지 및 피해자보호 등에 관한 법률 일부개정법률안(정춘숙의원 등 22인)'],\n",
       " '유승민 미래통합당': ['고엽제후유의증 등 환자지원 및 단체설립에 관한 법률 일부개정법률안(지상욱의원 등 11인)',\n",
       "  '국가유공자 등 예우 및 지원에 관한 법률 일부개정법률안(지상욱의원 등 11인)',\n",
       "  '학대피해노인 지원법안(박인숙의원 등 10인)'],\n",
       " '나경원 미래통합당': ['전자금융거래법 일부개정법률안(김선동의원 등 11인)',\n",
       "  '장애인복지법 일부개정법률안(김상훈의원 등 14인)',\n",
       "  '교통약자의 이동편의 증진법 일부개정법률안(원유철의원 등 10인)']}"
      ]
     },
     "execution_count": 268,
     "metadata": {},
     "output_type": "execute_result"
    }
   ],
   "source": [
    "rec.show_senators_bills_contents(list_senator, bills)"
   ]
  }
 ],
 "metadata": {
  "kernelspec": {
   "display_name": "Python 3",
   "language": "python",
   "name": "python3"
  },
  "language_info": {
   "codemirror_mode": {
    "name": "ipython",
    "version": 3
   },
   "file_extension": ".py",
   "mimetype": "text/x-python",
   "name": "python",
   "nbconvert_exporter": "python",
   "pygments_lexer": "ipython3",
   "version": "3.8.2"
  }
 },
 "nbformat": 4,
 "nbformat_minor": 4
}
